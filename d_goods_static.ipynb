{
 "cells": [
  {
   "cell_type": "code",
   "execution_count": 1,
   "metadata": {},
   "outputs": [],
   "source": [
    "import numpy as np\n",
    "import cvxpy as cp\n",
    "import matplotlib as mpl\n",
    "import matplotlib.pyplot as plt"
   ]
  },
  {
   "cell_type": "code",
   "execution_count": 2,
   "metadata": {},
   "outputs": [],
   "source": [
    "c=10\n",
    "delta=0.1\n",
    "d=2\n",
    "m=15\n",
    "n=25\n",
    "a=np.zeros((m,d))\n",
    "b=np.zeros((n,d))\n",
    "a_=np.zeros(d)\n",
    "b_=np.zeros(d)"
   ]
  },
  {
   "cell_type": "markdown",
   "metadata": {},
   "source": [
    "Randomly fix the model parameters"
   ]
  },
  {
   "cell_type": "code",
   "execution_count": 3,
   "metadata": {},
   "outputs": [],
   "source": [
    "np.random.seed(4)\n",
    "A = np.random.randn(m,d,d)\n",
    "for i in range(m):\n",
    "    A[i] = A[i].T @ A[i]+delta*np.eye(d)\n",
    "B = np.random.randn(n,d,d)\n",
    "for i in range(n):\n",
    "    B[i] = B[i].T @ B[i]+delta*np.eye(d)\n",
    "for i in range(m):\n",
    "    for k in range(d):\n",
    "        a_[k]=c*np.sum(A[i,k,A[i,k]>0])\n",
    "    a[i]=np.random.uniform(size=d)+a_  \n",
    "for i in range(n):\n",
    "    for k in range(d):\n",
    "        b_[k]=c*np.sum(B[i,k,B[i,k]<0])\n",
    "    b[i]=np.random.uniform(size=d)+b_"
   ]
  },
  {
   "cell_type": "markdown",
   "metadata": {},
   "source": [
    "Division reactions"
   ]
  },
  {
   "cell_type": "code",
   "execution_count": 4,
   "metadata": {},
   "outputs": [],
   "source": [
    "def x_tilde(A,a,lam):\n",
    "    x = cp.Variable(d)\n",
    "    constraints=[x>=0,x<=c]\n",
    "    obj=(a-lam)@x-cp.quad_form(x,A)/2\n",
    "    problem=cp.Problem(cp.Maximize(obj),constraints)\n",
    "    #problem.solve(verbose=True)\n",
    "    problem.solve()\n",
    "    return x.value\n",
    "def y_tilde(B,b,lam):\n",
    "    y = cp.Variable(d)\n",
    "    constraints=[y>=0,y<=c]\n",
    "    obj=(lam-b)@y-cp.quad_form(y,B)/2\n",
    "    problem=cp.Problem(cp.Maximize(obj),constraints)\n",
    "    problem.solve()\n",
    "    return y.value"
   ]
  },
  {
   "cell_type": "markdown",
   "metadata": {},
   "source": [
    "The algorithm"
   ]
  },
  {
   "cell_type": "code",
   "execution_count": 5,
   "metadata": {},
   "outputs": [],
   "source": [
    "T=500\n",
    "lam=np.zeros(d)\n",
    "lam_all=np.zeros((T,d))\n",
    "z_all=np.zeros((T,d))\n",
    "L=0\n",
    "L_sqr=0\n",
    "for t in range(T):\n",
    "    x=np.zeros(d)\n",
    "    for i in range(m):\n",
    "        x+=x_tilde(A[i],a[i],lam)\n",
    "    y=np.zeros(d)\n",
    "    for i in range(n):\n",
    "        y+=y_tilde(B[i],b[i],lam)\n",
    "    L+=y-x\n",
    "    L_sqr+=(y-x)**2\n",
    "    lam=-L/np.sqrt(L_sqr)\n",
    "    lam_all[t]=lam\n",
    "    z_all[t]=y-x"
   ]
  },
  {
   "cell_type": "code",
   "execution_count": 6,
   "metadata": {},
   "outputs": [
    {
     "data": {
      "text/plain": [
       "Text(0.5, 1.0, 'Difference between supply and demand')"
      ]
     },
     "execution_count": 6,
     "metadata": {},
     "output_type": "execute_result"
    },
    {
     "data": {
      "image/png": "[encoded data removed]",
      "text/plain": [
       "<Figure size 648x288 with 2 Axes>"
      ]
     },
     "metadata": {
      "needs_background": "light"
     },
     "output_type": "display_data"
    }
   ],
   "source": [
    "mpl.rcParams.update({'font.size': 12, 'font.family': 'STIXGeneral', 'mathtext.fontset': 'stix'})\n",
    "fig, axes = plt.subplots(1, 2, figsize=(9,4))\n",
    "fig.subplots_adjust(wspace=0.45)\n",
    "axes[0].plot(lam_all[:,0], c='green')\n",
    "axes[0].plot(lam_all[:,1], linestyle = 'dashed', c='blue')\n",
    "axes[0].set_xlabel('$t$')\n",
    "axes[0].set_ylabel('$\\lambda_t$')\n",
    "axes[0].set_title('Transfer prices')\n",
    "plt.plot(z_all[:,0], c='green')\n",
    "plt.plot(z_all[:,1], linestyle = 'dashed', c='blue')\n",
    "axes[1].set_xlabel('$t$')\n",
    "axes[1].set_ylabel('$\\Delta \\widetilde z_t(\\lambda_t)$')\n",
    "axes[1].set_title('Difference between supply and demand')"
   ]
  },
  {
   "cell_type": "code",
   "execution_count": 7,
   "metadata": {},
   "outputs": [],
   "source": [
    "fig.savefig('d_commodities_static.eps', dpi=600, bbox_inches='tight')"
   ]
  }
 ],
 "metadata": {
  "kernelspec": {
   "display_name": "Python 3",
   "language": "python",
   "name": "python3"
  },
  "language_info": {
   "codemirror_mode": {
    "name": "ipython",
    "version": 3
   },
   "file_extension": ".py",
   "mimetype": "text/x-python",
   "name": "python",
   "nbconvert_exporter": "python",
   "pygments_lexer": "ipython3",
   "version": "3.8.8"
  }
 },
 "nbformat": 4,
 "nbformat_minor": 2
}
