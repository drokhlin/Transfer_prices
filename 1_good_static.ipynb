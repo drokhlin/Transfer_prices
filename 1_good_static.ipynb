{
 "cells": [
  {
   "cell_type": "code",
   "execution_count": 1,
   "metadata": {},
   "outputs": [],
   "source": [
    "import scipy.optimize as optimize\n",
    "import numpy as np\n",
    "import matplotlib as mpl\n",
    "import matplotlib.pyplot as plt"
   ]
  },
  {
   "cell_type": "markdown",
   "metadata": {},
   "source": [
    "Randomly fix the model parameters"
   ]
  },
  {
   "cell_type": "code",
   "execution_count": 2,
   "metadata": {},
   "outputs": [],
   "source": [
    "np.random.seed(42)\n",
    "m=15\n",
    "n=25\n",
    "A=np.random.uniform(0,15,m)\n",
    "B=np.random.uniform(0,10,n)\n",
    "eps_1=0.1+np.random.uniform(0,1,m)\n",
    "eps_2=0.1+np.random.uniform(0,1,n)\n",
    "alpha=1-np.random.uniform(0,1,m)\n",
    "beta=1+np.random.uniform(0,3,n)\n",
    "c=10"
   ]
  },
  {
   "cell_type": "markdown",
   "metadata": {},
   "source": [
    "Revenue and cost functions"
   ]
  },
  {
   "cell_type": "code",
   "execution_count": 3,
   "metadata": {},
   "outputs": [],
   "source": [
    "def f(A,alpha,eps_1,x):\n",
    "    return A/alpha*(x+eps_1)**alpha-A/alpha*eps_1**alpha\n",
    "def g(B,beta,eps_2,y):\n",
    "    return B/beta*(y+eps_2)**beta-B/beta*eps_2**beta"
   ]
  },
  {
   "cell_type": "markdown",
   "metadata": {},
   "source": [
    "Division reactions"
   ]
  },
  {
   "cell_type": "code",
   "execution_count": 4,
   "metadata": {},
   "outputs": [],
   "source": [
    "def x_tilde(A,alpha,eps_1,lam):\n",
    "    if lam>=A/eps_1**(1-alpha):\n",
    "        return 0\n",
    "    elif lam<=A/(c+eps_1)**(1-alpha):\n",
    "        return c\n",
    "    else:\n",
    "        return (A/lam)**(1/(1-alpha))-eps_1\n",
    "def y_tilde(B,beta,eps_2,lam):\n",
    "    if lam<=B*eps_2**(beta-1):\n",
    "        return 0\n",
    "    elif lam>=B*(c+eps_2)**(beta-1):\n",
    "        return c\n",
    "    else:\n",
    "        return (lam/B)**(1/(beta-1))-eps_2"
   ]
  },
  {
   "cell_type": "markdown",
   "metadata": {},
   "source": [
    "The algorithm"
   ]
  },
  {
   "cell_type": "code",
   "execution_count": 5,
   "metadata": {},
   "outputs": [],
   "source": [
    "T=500\n",
    "L=0\n",
    "L_sqr=0\n",
    "lam=0\n",
    "lam_all=[]\n",
    "z=np.zeros(T)\n",
    "for t in range(T):\n",
    "    x=0\n",
    "    for i in range(m):\n",
    "        x+=x_tilde(A[i],alpha[i],eps_1[i],lam)\n",
    "    y=0\n",
    "    for i in range(n):\n",
    "        y+=y_tilde(B[i],beta[i],eps_2[i],lam) \n",
    "    L+=y-x\n",
    "    L_sqr+=(y-x)**2\n",
    "    lam=-L/np.sqrt(L_sqr)\n",
    "    lam_all.append(lam)\n",
    "    z[t]=y-x"
   ]
  },
  {
   "cell_type": "code",
   "execution_count": 6,
   "metadata": {},
   "outputs": [
    {
     "data": {
      "text/plain": [
       "Text(0.5, 1.0, 'Difference between supply and demand')"
      ]
     },
     "execution_count": 6,
     "metadata": {},
     "output_type": "execute_result"
    },
    {
     "data": {
      "image/png": "[encoded data removed]",
      "text/plain": [
       "<Figure size 648x288 with 2 Axes>"
      ]
     },
     "metadata": {
      "needs_background": "light"
     },
     "output_type": "display_data"
    }
   ],
   "source": [
    "mpl.rcParams.update({'font.size': 12, 'font.family': 'STIXGeneral', 'mathtext.fontset': 'stix'})\n",
    "fig, axes = plt.subplots(1, 2, figsize=(9,4))\n",
    "fig.subplots_adjust(wspace=0.45)\n",
    "axes[0].plot(lam_all)\n",
    "axes[0].set_xlabel('$t$')\n",
    "axes[0].set_ylabel('$\\lambda_t$')\n",
    "axes[0].set_title('Transfer price')\n",
    "axes[1].plot(z)\n",
    "axes[1].set_xlabel('$t$')\n",
    "axes[1].set_ylabel('$\\Delta \\widetilde z_t(\\lambda_t)$')\n",
    "axes[1].set_title('Difference between supply and demand')"
   ]
  },
  {
   "cell_type": "code",
   "execution_count": 7,
   "metadata": {},
   "outputs": [],
   "source": [
    "fig.savefig('1_commodity_deterministic.pdf', dpi=400, bbox_inches='tight')"
   ]
  }
 ],
 "metadata": {
  "kernelspec": {
   "display_name": "Python 3",
   "language": "python",
   "name": "python3"
  },
  "language_info": {
   "codemirror_mode": {
    "name": "ipython",
    "version": 3
   },
   "file_extension": ".py",
   "mimetype": "text/x-python",
   "name": "python",
   "nbconvert_exporter": "python",
   "pygments_lexer": "ipython3",
   "version": "3.8.8"
  }
 },
 "nbformat": 4,
 "nbformat_minor": 2
}
